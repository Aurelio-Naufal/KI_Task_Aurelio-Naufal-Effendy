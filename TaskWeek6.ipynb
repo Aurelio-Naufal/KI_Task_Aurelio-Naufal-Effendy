{
  "metadata": {
    "kernelspec": {
      "language": "python",
      "display_name": "Python 3",
      "name": "python3"
    },
    "language_info": {
      "name": "python",
      "version": "3.10.13",
      "mimetype": "text/x-python",
      "codemirror_mode": {
        "name": "ipython",
        "version": 3
      },
      "pygments_lexer": "ipython3",
      "nbconvert_exporter": "python",
      "file_extension": ".py"
    },
    "kaggle": {
      "accelerator": "gpu",
      "dataSources": [
        {
          "sourceId": 2510329,
          "sourceType": "datasetVersion",
          "datasetId": 1520310
        }
      ],
      "dockerImageVersionId": 30699,
      "isInternetEnabled": true,
      "language": "python",
      "sourceType": "notebook",
      "isGpuEnabled": true
    },
    "colab": {
      "provenance": [],
      "include_colab_link": true
    }
  },
  "nbformat_minor": 0,
  "nbformat": 4,
  "cells": [
    {
      "cell_type": "markdown",
      "metadata": {
        "id": "view-in-github",
        "colab_type": "text"
      },
      "source": [
        "<a href=\"https://colab.research.google.com/github/Aurelio-Naufal/KI_Task_Aurelio-Naufal-Effendy/blob/main/TaskWeek6.ipynb\" target=\"_parent\"><img src=\"https://colab.research.google.com/assets/colab-badge.svg\" alt=\"Open In Colab\"/></a>"
      ]
    },
    {
      "cell_type": "markdown",
      "source": [
        "Nama : Aurelio Naufal Effendy\n",
        "\n",
        "NPM : 2106638526\n",
        "\n",
        "Original Code : https://www.kaggle.com/code/yossefmohammed/twitter-sentiment-analysis-with-gru"
      ],
      "metadata": {
        "id": "vu2lLbC4UYqD"
      }
    },
    {
      "source": [
        "\n",
        "# IMPORTANT: RUN THIS CELL IN ORDER TO IMPORT YOUR KAGGLE DATA SOURCES\n",
        "# TO THE CORRECT LOCATION (/kaggle/input) IN YOUR NOTEBOOK,\n",
        "# THEN FEEL FREE TO DELETE THIS CELL.\n",
        "# NOTE: THIS NOTEBOOK ENVIRONMENT DIFFERS FROM KAGGLE'S PYTHON\n",
        "# ENVIRONMENT SO THERE MAY BE MISSING LIBRARIES USED BY YOUR\n",
        "# NOTEBOOK.\n",
        "\n",
        "import os\n",
        "import sys\n",
        "from tempfile import NamedTemporaryFile\n",
        "from urllib.request import urlopen\n",
        "from urllib.parse import unquote, urlparse\n",
        "from urllib.error import HTTPError\n",
        "from zipfile import ZipFile\n",
        "import tarfile\n",
        "import shutil\n",
        "\n",
        "CHUNK_SIZE = 40960\n",
        "DATA_SOURCE_MAPPING = 'twitter-entity-sentiment-analysis:https%3A%2F%2Fstorage.googleapis.com%2Fkaggle-data-sets%2F1520310%2F2510329%2Fbundle%2Farchive.zip%3FX-Goog-Algorithm%3DGOOG4-RSA-SHA256%26X-Goog-Credential%3Dgcp-kaggle-com%2540kaggle-161607.iam.gserviceaccount.com%252F20241013%252Fauto%252Fstorage%252Fgoog4_request%26X-Goog-Date%3D20241013T143836Z%26X-Goog-Expires%3D259200%26X-Goog-SignedHeaders%3Dhost%26X-Goog-Signature%3D60c900ed8da722be32baedd6a5fefba5736130e5a60bb88564f85e7fb466abe9f8e39864c91473a5766cf2b3fd2d540447cfe1f35cf06810e7273089932768aa137e4e96b6469e5bb6216d9b1f7adb79cd3f28e583c07c01b83c49eb788738866d78041407302e91adcfc9a0ccf1c79578b2cd2c594b8ea58351dad14ec0981a5f5dbbbc6606176198d2c5d307fbfc4687bd9df65219dc5e7fe7cbe8c3cb9e8f1abfd3e42716e8d849da7880356dd2d28c6a70d963745f0b6633c73ebaa9f98cf33308b875080ed353ed91d267256860d2c10e1910aa1899a11aca89021a7e53a6eb42fe9fe5fecac49d81914f1b87654f564a98e00c964cab3e6497a981797e'\n",
        "\n",
        "KAGGLE_INPUT_PATH='/kaggle/input'\n",
        "KAGGLE_WORKING_PATH='/kaggle/working'\n",
        "KAGGLE_SYMLINK='kaggle'\n",
        "\n",
        "!umount /kaggle/input/ 2> /dev/null\n",
        "shutil.rmtree('/kaggle/input', ignore_errors=True)\n",
        "os.makedirs(KAGGLE_INPUT_PATH, 0o777, exist_ok=True)\n",
        "os.makedirs(KAGGLE_WORKING_PATH, 0o777, exist_ok=True)\n",
        "\n",
        "try:\n",
        "  os.symlink(KAGGLE_INPUT_PATH, os.path.join(\"..\", 'input'), target_is_directory=True)\n",
        "except FileExistsError:\n",
        "  pass\n",
        "try:\n",
        "  os.symlink(KAGGLE_WORKING_PATH, os.path.join(\"..\", 'working'), target_is_directory=True)\n",
        "except FileExistsError:\n",
        "  pass\n",
        "\n",
        "for data_source_mapping in DATA_SOURCE_MAPPING.split(','):\n",
        "    directory, download_url_encoded = data_source_mapping.split(':')\n",
        "    download_url = unquote(download_url_encoded)\n",
        "    filename = urlparse(download_url).path\n",
        "    destination_path = os.path.join(KAGGLE_INPUT_PATH, directory)\n",
        "    try:\n",
        "        with urlopen(download_url) as fileres, NamedTemporaryFile() as tfile:\n",
        "            total_length = fileres.headers['content-length']\n",
        "            print(f'Downloading {directory}, {total_length} bytes compressed')\n",
        "            dl = 0\n",
        "            data = fileres.read(CHUNK_SIZE)\n",
        "            while len(data) > 0:\n",
        "                dl += len(data)\n",
        "                tfile.write(data)\n",
        "                done = int(50 * dl / int(total_length))\n",
        "                sys.stdout.write(f\"\\r[{'=' * done}{' ' * (50-done)}] {dl} bytes downloaded\")\n",
        "                sys.stdout.flush()\n",
        "                data = fileres.read(CHUNK_SIZE)\n",
        "            if filename.endswith('.zip'):\n",
        "              with ZipFile(tfile) as zfile:\n",
        "                zfile.extractall(destination_path)\n",
        "            else:\n",
        "              with tarfile.open(tfile.name) as tarfile:\n",
        "                tarfile.extractall(destination_path)\n",
        "            print(f'\\nDownloaded and uncompressed: {directory}')\n",
        "    except HTTPError as e:\n",
        "        print(f'Failed to load (likely expired) {download_url} to path {destination_path}')\n",
        "        continue\n",
        "    except OSError as e:\n",
        "        print(f'Failed to load {download_url} to path {destination_path}')\n",
        "        continue\n",
        "\n",
        "print('Data source import complete.')\n"
      ],
      "metadata": {
        "id": "y1SSNw9DUTJ9"
      },
      "cell_type": "code",
      "outputs": [],
      "execution_count": null
    },
    {
      "cell_type": "code",
      "source": [
        "import pandas as pd"
      ],
      "metadata": {
        "_uuid": "8f2839f25d086af736a60e9eeb907d3b93b6e0e5",
        "_cell_guid": "b1076dfc-b9ad-4769-8c92-a6c4dae69d19",
        "execution": {
          "iopub.status.busy": "2024-10-13T14:09:33.357472Z",
          "iopub.execute_input": "2024-10-13T14:09:33.357912Z",
          "iopub.status.idle": "2024-10-13T14:09:33.810142Z",
          "shell.execute_reply.started": "2024-10-13T14:09:33.357873Z",
          "shell.execute_reply": "2024-10-13T14:09:33.809156Z"
        },
        "trusted": true,
        "id": "ozsNOZLFUTJ_"
      },
      "execution_count": null,
      "outputs": []
    },
    {
      "cell_type": "markdown",
      "source": [
        "- Lod the training data"
      ],
      "metadata": {
        "id": "xQ8XOYwpUTKA"
      }
    },
    {
      "cell_type": "code",
      "source": [
        "training=pd.read_csv(\"/kaggle/input/twitter-entity-sentiment-analysis/twitter_training.csv\")\n",
        "test=pd.read_csv(\"/kaggle/input/twitter-entity-sentiment-analysis/twitter_validation.csv\")"
      ],
      "metadata": {
        "execution": {
          "iopub.status.busy": "2024-10-13T14:09:33.811942Z",
          "iopub.execute_input": "2024-10-13T14:09:33.812313Z",
          "iopub.status.idle": "2024-10-13T14:09:34.161882Z",
          "shell.execute_reply.started": "2024-10-13T14:09:33.812289Z",
          "shell.execute_reply": "2024-10-13T14:09:34.160781Z"
        },
        "trusted": true,
        "id": "zBSuN88gUTKB"
      },
      "execution_count": null,
      "outputs": []
    },
    {
      "cell_type": "code",
      "source": [
        "training"
      ],
      "metadata": {
        "execution": {
          "iopub.status.busy": "2024-10-13T14:09:34.163473Z",
          "iopub.execute_input": "2024-10-13T14:09:34.163844Z",
          "iopub.status.idle": "2024-10-13T14:09:34.189211Z",
          "shell.execute_reply.started": "2024-10-13T14:09:34.163811Z",
          "shell.execute_reply": "2024-10-13T14:09:34.188273Z"
        },
        "trusted": true,
        "id": "PpcYVpuaUTKB",
        "outputId": "aa42c8b6-2bc2-471a-f54b-199c191603e3"
      },
      "execution_count": null,
      "outputs": [
        {
          "execution_count": 3,
          "output_type": "execute_result",
          "data": {
            "text/plain": "       2401  Borderlands  Positive  \\\n0      2401  Borderlands  Positive   \n1      2401  Borderlands  Positive   \n2      2401  Borderlands  Positive   \n3      2401  Borderlands  Positive   \n4      2401  Borderlands  Positive   \n...     ...          ...       ...   \n74676  9200       Nvidia  Positive   \n74677  9200       Nvidia  Positive   \n74678  9200       Nvidia  Positive   \n74679  9200       Nvidia  Positive   \n74680  9200       Nvidia  Positive   \n\n      im getting on borderlands and i will murder you all ,  \n0      I am coming to the borders and I will kill you...     \n1      im getting on borderlands and i will kill you ...     \n2      im coming on borderlands and i will murder you...     \n3      im getting on borderlands 2 and i will murder ...     \n4      im getting into borderlands and i can murder y...     \n...                                                  ...     \n74676  Just realized that the Windows partition of my...     \n74677  Just realized that my Mac window partition is ...     \n74678  Just realized the windows partition of my Mac ...     \n74679  Just realized between the windows partition of...     \n74680  Just like the windows partition of my Mac is l...     \n\n[74681 rows x 4 columns]",
            "text/html": "<div>\n<style scoped>\n    .dataframe tbody tr th:only-of-type {\n        vertical-align: middle;\n    }\n\n    .dataframe tbody tr th {\n        vertical-align: top;\n    }\n\n    .dataframe thead th {\n        text-align: right;\n    }\n</style>\n<table border=\"1\" class=\"dataframe\">\n  <thead>\n    <tr style=\"text-align: right;\">\n      <th></th>\n      <th>2401</th>\n      <th>Borderlands</th>\n      <th>Positive</th>\n      <th>im getting on borderlands and i will murder you all ,</th>\n    </tr>\n  </thead>\n  <tbody>\n    <tr>\n      <th>0</th>\n      <td>2401</td>\n      <td>Borderlands</td>\n      <td>Positive</td>\n      <td>I am coming to the borders and I will kill you...</td>\n    </tr>\n    <tr>\n      <th>1</th>\n      <td>2401</td>\n      <td>Borderlands</td>\n      <td>Positive</td>\n      <td>im getting on borderlands and i will kill you ...</td>\n    </tr>\n    <tr>\n      <th>2</th>\n      <td>2401</td>\n      <td>Borderlands</td>\n      <td>Positive</td>\n      <td>im coming on borderlands and i will murder you...</td>\n    </tr>\n    <tr>\n      <th>3</th>\n      <td>2401</td>\n      <td>Borderlands</td>\n      <td>Positive</td>\n      <td>im getting on borderlands 2 and i will murder ...</td>\n    </tr>\n    <tr>\n      <th>4</th>\n      <td>2401</td>\n      <td>Borderlands</td>\n      <td>Positive</td>\n      <td>im getting into borderlands and i can murder y...</td>\n    </tr>\n    <tr>\n      <th>...</th>\n      <td>...</td>\n      <td>...</td>\n      <td>...</td>\n      <td>...</td>\n    </tr>\n    <tr>\n      <th>74676</th>\n      <td>9200</td>\n      <td>Nvidia</td>\n      <td>Positive</td>\n      <td>Just realized that the Windows partition of my...</td>\n    </tr>\n    <tr>\n      <th>74677</th>\n      <td>9200</td>\n      <td>Nvidia</td>\n      <td>Positive</td>\n      <td>Just realized that my Mac window partition is ...</td>\n    </tr>\n    <tr>\n      <th>74678</th>\n      <td>9200</td>\n      <td>Nvidia</td>\n      <td>Positive</td>\n      <td>Just realized the windows partition of my Mac ...</td>\n    </tr>\n    <tr>\n      <th>74679</th>\n      <td>9200</td>\n      <td>Nvidia</td>\n      <td>Positive</td>\n      <td>Just realized between the windows partition of...</td>\n    </tr>\n    <tr>\n      <th>74680</th>\n      <td>9200</td>\n      <td>Nvidia</td>\n      <td>Positive</td>\n      <td>Just like the windows partition of my Mac is l...</td>\n    </tr>\n  </tbody>\n</table>\n<p>74681 rows × 4 columns</p>\n</div>"
          },
          "metadata": {}
        }
      ]
    },
    {
      "cell_type": "markdown",
      "source": [
        "- load the testing data"
      ],
      "metadata": {
        "id": "ZB_vgXMUUTKC"
      }
    },
    {
      "cell_type": "code",
      "source": [
        "test"
      ],
      "metadata": {
        "execution": {
          "iopub.status.busy": "2024-10-13T14:09:34.193144Z",
          "iopub.execute_input": "2024-10-13T14:09:34.193412Z",
          "iopub.status.idle": "2024-10-13T14:09:34.20797Z",
          "shell.execute_reply.started": "2024-10-13T14:09:34.193389Z",
          "shell.execute_reply": "2024-10-13T14:09:34.206967Z"
        },
        "trusted": true,
        "id": "ND2RINAfUTKC",
        "outputId": "27e565d1-7e3c-43f7-a719-7d551f024631"
      },
      "execution_count": null,
      "outputs": [
        {
          "execution_count": 4,
          "output_type": "execute_result",
          "data": {
            "text/plain": "     3364             Facebook  Irrelevant  \\\n0     352               Amazon     Neutral   \n1    8312            Microsoft    Negative   \n2    4371                CS-GO    Negative   \n3    4433               Google     Neutral   \n4    6273                 FIFA    Negative   \n..    ...                  ...         ...   \n994  4891  GrandTheftAuto(GTA)  Irrelevant   \n995  4359                CS-GO  Irrelevant   \n996  2652          Borderlands    Positive   \n997  8069            Microsoft    Positive   \n998  6960      johnson&johnson     Neutral   \n\n    I mentioned on Facebook that I was struggling for motivation to go for a run the other day, which has been translated by Tom’s great auntie as ‘Hayley can’t get out of bed’ and told to his grandma, who now thinks I’m a lazy, terrible person 🤣  \n0    BBC News - Amazon boss Jeff Bezos rejects clai...                                                                                                                                                                                                  \n1    @Microsoft Why do I pay for WORD when it funct...                                                                                                                                                                                                  \n2    CSGO matchmaking is so full of closet hacking,...                                                                                                                                                                                                  \n3    Now the President is slapping Americans in the...                                                                                                                                                                                                  \n4    Hi @EAHelp I’ve had Madeleine McCann in my cel...                                                                                                                                                                                                  \n..                                                 ...                                                                                                                                                                                                  \n994  ⭐️ Toronto is the arts and culture capital of ...                                                                                                                                                                                                  \n995  tHIS IS ACTUALLY A GOOD MOVE TOT BRING MORE VI...                                                                                                                                                                                                  \n996  Today sucked so it’s time to drink wine n play...                                                                                                                                                                                                  \n997  Bought a fraction of Microsoft today. Small wins.                                                                                                                                                                                                  \n998  Johnson & Johnson to stop selling talc baby po...                                                                                                                                                                                                  \n\n[999 rows x 4 columns]",
            "text/html": "<div>\n<style scoped>\n    .dataframe tbody tr th:only-of-type {\n        vertical-align: middle;\n    }\n\n    .dataframe tbody tr th {\n        vertical-align: top;\n    }\n\n    .dataframe thead th {\n        text-align: right;\n    }\n</style>\n<table border=\"1\" class=\"dataframe\">\n  <thead>\n    <tr style=\"text-align: right;\">\n      <th></th>\n      <th>3364</th>\n      <th>Facebook</th>\n      <th>Irrelevant</th>\n      <th>I mentioned on Facebook that I was struggling for motivation to go for a run the other day, which has been translated by Tom’s great auntie as ‘Hayley can’t get out of bed’ and told to his grandma, who now thinks I’m a lazy, terrible person 🤣</th>\n    </tr>\n  </thead>\n  <tbody>\n    <tr>\n      <th>0</th>\n      <td>352</td>\n      <td>Amazon</td>\n      <td>Neutral</td>\n      <td>BBC News - Amazon boss Jeff Bezos rejects clai...</td>\n    </tr>\n    <tr>\n      <th>1</th>\n      <td>8312</td>\n      <td>Microsoft</td>\n      <td>Negative</td>\n      <td>@Microsoft Why do I pay for WORD when it funct...</td>\n    </tr>\n    <tr>\n      <th>2</th>\n      <td>4371</td>\n      <td>CS-GO</td>\n      <td>Negative</td>\n      <td>CSGO matchmaking is so full of closet hacking,...</td>\n    </tr>\n    <tr>\n      <th>3</th>\n      <td>4433</td>\n      <td>Google</td>\n      <td>Neutral</td>\n      <td>Now the President is slapping Americans in the...</td>\n    </tr>\n    <tr>\n      <th>4</th>\n      <td>6273</td>\n      <td>FIFA</td>\n      <td>Negative</td>\n      <td>Hi @EAHelp I’ve had Madeleine McCann in my cel...</td>\n    </tr>\n    <tr>\n      <th>...</th>\n      <td>...</td>\n      <td>...</td>\n      <td>...</td>\n      <td>...</td>\n    </tr>\n    <tr>\n      <th>994</th>\n      <td>4891</td>\n      <td>GrandTheftAuto(GTA)</td>\n      <td>Irrelevant</td>\n      <td>⭐️ Toronto is the arts and culture capital of ...</td>\n    </tr>\n    <tr>\n      <th>995</th>\n      <td>4359</td>\n      <td>CS-GO</td>\n      <td>Irrelevant</td>\n      <td>tHIS IS ACTUALLY A GOOD MOVE TOT BRING MORE VI...</td>\n    </tr>\n    <tr>\n      <th>996</th>\n      <td>2652</td>\n      <td>Borderlands</td>\n      <td>Positive</td>\n      <td>Today sucked so it’s time to drink wine n play...</td>\n    </tr>\n    <tr>\n      <th>997</th>\n      <td>8069</td>\n      <td>Microsoft</td>\n      <td>Positive</td>\n      <td>Bought a fraction of Microsoft today. Small wins.</td>\n    </tr>\n    <tr>\n      <th>998</th>\n      <td>6960</td>\n      <td>johnson&amp;johnson</td>\n      <td>Neutral</td>\n      <td>Johnson &amp; Johnson to stop selling talc baby po...</td>\n    </tr>\n  </tbody>\n</table>\n<p>999 rows × 4 columns</p>\n</div>"
          },
          "metadata": {}
        }
      ]
    },
    {
      "cell_type": "markdown",
      "source": [
        "- Add headers for the columns in each dataframe:"
      ],
      "metadata": {
        "id": "t7CJOltJUTKC"
      }
    },
    {
      "cell_type": "code",
      "source": [
        "test.columns = ['Header1', 'company','labels','text']\n",
        "training.columns = ['Header1', 'company','labels','text']"
      ],
      "metadata": {
        "execution": {
          "iopub.status.busy": "2024-10-13T14:09:34.209388Z",
          "iopub.execute_input": "2024-10-13T14:09:34.210094Z",
          "iopub.status.idle": "2024-10-13T14:09:34.215697Z",
          "shell.execute_reply.started": "2024-10-13T14:09:34.210062Z",
          "shell.execute_reply": "2024-10-13T14:09:34.214753Z"
        },
        "trusted": true,
        "id": "g26JyOAxUTKC"
      },
      "execution_count": null,
      "outputs": []
    },
    {
      "cell_type": "code",
      "source": [
        "print(training)\n",
        "print(\"---------------------------------------------------------------------\")\n",
        "print(test)"
      ],
      "metadata": {
        "execution": {
          "iopub.status.busy": "2024-10-13T14:09:34.217045Z",
          "iopub.execute_input": "2024-10-13T14:09:34.217573Z",
          "iopub.status.idle": "2024-10-13T14:09:34.231266Z",
          "shell.execute_reply.started": "2024-10-13T14:09:34.217536Z",
          "shell.execute_reply": "2024-10-13T14:09:34.230391Z"
        },
        "trusted": true,
        "id": "Uc-BXMRUUTKD",
        "outputId": "5db5440c-1ede-42a2-ec21-edac8608e19a"
      },
      "execution_count": null,
      "outputs": [
        {
          "name": "stdout",
          "text": "       Header1      company    labels  \\\n0         2401  Borderlands  Positive   \n1         2401  Borderlands  Positive   \n2         2401  Borderlands  Positive   \n3         2401  Borderlands  Positive   \n4         2401  Borderlands  Positive   \n...        ...          ...       ...   \n74676     9200       Nvidia  Positive   \n74677     9200       Nvidia  Positive   \n74678     9200       Nvidia  Positive   \n74679     9200       Nvidia  Positive   \n74680     9200       Nvidia  Positive   \n\n                                                    text  \n0      I am coming to the borders and I will kill you...  \n1      im getting on borderlands and i will kill you ...  \n2      im coming on borderlands and i will murder you...  \n3      im getting on borderlands 2 and i will murder ...  \n4      im getting into borderlands and i can murder y...  \n...                                                  ...  \n74676  Just realized that the Windows partition of my...  \n74677  Just realized that my Mac window partition is ...  \n74678  Just realized the windows partition of my Mac ...  \n74679  Just realized between the windows partition of...  \n74680  Just like the windows partition of my Mac is l...  \n\n[74681 rows x 4 columns]\n---------------------------------------------------------------------\n     Header1              company      labels  \\\n0        352               Amazon     Neutral   \n1       8312            Microsoft    Negative   \n2       4371                CS-GO    Negative   \n3       4433               Google     Neutral   \n4       6273                 FIFA    Negative   \n..       ...                  ...         ...   \n994     4891  GrandTheftAuto(GTA)  Irrelevant   \n995     4359                CS-GO  Irrelevant   \n996     2652          Borderlands    Positive   \n997     8069            Microsoft    Positive   \n998     6960      johnson&johnson     Neutral   \n\n                                                  text  \n0    BBC News - Amazon boss Jeff Bezos rejects clai...  \n1    @Microsoft Why do I pay for WORD when it funct...  \n2    CSGO matchmaking is so full of closet hacking,...  \n3    Now the President is slapping Americans in the...  \n4    Hi @EAHelp I’ve had Madeleine McCann in my cel...  \n..                                                 ...  \n994  ⭐️ Toronto is the arts and culture capital of ...  \n995  tHIS IS ACTUALLY A GOOD MOVE TOT BRING MORE VI...  \n996  Today sucked so it’s time to drink wine n play...  \n997  Bought a fraction of Microsoft today. Small wins.  \n998  Johnson & Johnson to stop selling talc baby po...  \n\n[999 rows x 4 columns]\n",
          "output_type": "stream"
        }
      ]
    },
    {
      "cell_type": "markdown",
      "source": [
        "- Delete unneeded columns"
      ],
      "metadata": {
        "id": "_vNLJm0eUTKD"
      }
    },
    {
      "cell_type": "code",
      "source": [
        "training.drop(columns=[\"Header1\",\"company\"],inplace=True)\n",
        "test.drop(columns=[\"Header1\",\"company\"],inplace=True)"
      ],
      "metadata": {
        "execution": {
          "iopub.status.busy": "2024-10-13T14:09:34.232465Z",
          "iopub.execute_input": "2024-10-13T14:09:34.232842Z",
          "iopub.status.idle": "2024-10-13T14:09:34.244752Z",
          "shell.execute_reply.started": "2024-10-13T14:09:34.232809Z",
          "shell.execute_reply": "2024-10-13T14:09:34.243985Z"
        },
        "trusted": true,
        "id": "GKgWr5M1UTKE"
      },
      "execution_count": null,
      "outputs": []
    },
    {
      "cell_type": "code",
      "source": [
        "training.head()"
      ],
      "metadata": {
        "execution": {
          "iopub.status.busy": "2024-10-13T14:09:34.245981Z",
          "iopub.execute_input": "2024-10-13T14:09:34.24645Z",
          "iopub.status.idle": "2024-10-13T14:09:34.260483Z",
          "shell.execute_reply.started": "2024-10-13T14:09:34.246414Z",
          "shell.execute_reply": "2024-10-13T14:09:34.259517Z"
        },
        "trusted": true,
        "id": "Jr1GQue5UTKE",
        "outputId": "a7077f29-5dd7-41b5-e6e2-1014b593de6c"
      },
      "execution_count": null,
      "outputs": [
        {
          "execution_count": 8,
          "output_type": "execute_result",
          "data": {
            "text/plain": "     labels                                               text\n0  Positive  I am coming to the borders and I will kill you...\n1  Positive  im getting on borderlands and i will kill you ...\n2  Positive  im coming on borderlands and i will murder you...\n3  Positive  im getting on borderlands 2 and i will murder ...\n4  Positive  im getting into borderlands and i can murder y...",
            "text/html": "<div>\n<style scoped>\n    .dataframe tbody tr th:only-of-type {\n        vertical-align: middle;\n    }\n\n    .dataframe tbody tr th {\n        vertical-align: top;\n    }\n\n    .dataframe thead th {\n        text-align: right;\n    }\n</style>\n<table border=\"1\" class=\"dataframe\">\n  <thead>\n    <tr style=\"text-align: right;\">\n      <th></th>\n      <th>labels</th>\n      <th>text</th>\n    </tr>\n  </thead>\n  <tbody>\n    <tr>\n      <th>0</th>\n      <td>Positive</td>\n      <td>I am coming to the borders and I will kill you...</td>\n    </tr>\n    <tr>\n      <th>1</th>\n      <td>Positive</td>\n      <td>im getting on borderlands and i will kill you ...</td>\n    </tr>\n    <tr>\n      <th>2</th>\n      <td>Positive</td>\n      <td>im coming on borderlands and i will murder you...</td>\n    </tr>\n    <tr>\n      <th>3</th>\n      <td>Positive</td>\n      <td>im getting on borderlands 2 and i will murder ...</td>\n    </tr>\n    <tr>\n      <th>4</th>\n      <td>Positive</td>\n      <td>im getting into borderlands and i can murder y...</td>\n    </tr>\n  </tbody>\n</table>\n</div>"
          },
          "metadata": {}
        }
      ]
    },
    {
      "cell_type": "code",
      "source": [
        "test.head()"
      ],
      "metadata": {
        "execution": {
          "iopub.status.busy": "2024-10-13T14:09:34.261805Z",
          "iopub.execute_input": "2024-10-13T14:09:34.262139Z",
          "iopub.status.idle": "2024-10-13T14:09:34.271612Z",
          "shell.execute_reply.started": "2024-10-13T14:09:34.262095Z",
          "shell.execute_reply": "2024-10-13T14:09:34.270694Z"
        },
        "trusted": true,
        "id": "c6d8QxQlUTKE",
        "outputId": "5744aeb2-f02d-4a0e-d745-5cb355ef0d13"
      },
      "execution_count": null,
      "outputs": [
        {
          "execution_count": 9,
          "output_type": "execute_result",
          "data": {
            "text/plain": "     labels                                               text\n0   Neutral  BBC News - Amazon boss Jeff Bezos rejects clai...\n1  Negative  @Microsoft Why do I pay for WORD when it funct...\n2  Negative  CSGO matchmaking is so full of closet hacking,...\n3   Neutral  Now the President is slapping Americans in the...\n4  Negative  Hi @EAHelp I’ve had Madeleine McCann in my cel...",
            "text/html": "<div>\n<style scoped>\n    .dataframe tbody tr th:only-of-type {\n        vertical-align: middle;\n    }\n\n    .dataframe tbody tr th {\n        vertical-align: top;\n    }\n\n    .dataframe thead th {\n        text-align: right;\n    }\n</style>\n<table border=\"1\" class=\"dataframe\">\n  <thead>\n    <tr style=\"text-align: right;\">\n      <th></th>\n      <th>labels</th>\n      <th>text</th>\n    </tr>\n  </thead>\n  <tbody>\n    <tr>\n      <th>0</th>\n      <td>Neutral</td>\n      <td>BBC News - Amazon boss Jeff Bezos rejects clai...</td>\n    </tr>\n    <tr>\n      <th>1</th>\n      <td>Negative</td>\n      <td>@Microsoft Why do I pay for WORD when it funct...</td>\n    </tr>\n    <tr>\n      <th>2</th>\n      <td>Negative</td>\n      <td>CSGO matchmaking is so full of closet hacking,...</td>\n    </tr>\n    <tr>\n      <th>3</th>\n      <td>Neutral</td>\n      <td>Now the President is slapping Americans in the...</td>\n    </tr>\n    <tr>\n      <th>4</th>\n      <td>Negative</td>\n      <td>Hi @EAHelp I’ve had Madeleine McCann in my cel...</td>\n    </tr>\n  </tbody>\n</table>\n</div>"
          },
          "metadata": {}
        }
      ]
    },
    {
      "cell_type": "markdown",
      "source": [
        "- Add the two data frame in one datarame"
      ],
      "metadata": {
        "id": "mo6_SfWjUTKF"
      }
    },
    {
      "cell_type": "code",
      "source": [
        "sentiment=pd.concat([training,test],ignore_index=True)\n",
        "sentiment"
      ],
      "metadata": {
        "execution": {
          "iopub.status.busy": "2024-10-13T14:09:34.275943Z",
          "iopub.execute_input": "2024-10-13T14:09:34.276207Z",
          "iopub.status.idle": "2024-10-13T14:09:34.290662Z",
          "shell.execute_reply.started": "2024-10-13T14:09:34.276185Z",
          "shell.execute_reply": "2024-10-13T14:09:34.289484Z"
        },
        "trusted": true,
        "id": "cxo_gUFRUTKF",
        "outputId": "0e5662b5-ffb1-405a-c82b-63339668ce02"
      },
      "execution_count": null,
      "outputs": [
        {
          "execution_count": 10,
          "output_type": "execute_result",
          "data": {
            "text/plain": "           labels                                               text\n0        Positive  I am coming to the borders and I will kill you...\n1        Positive  im getting on borderlands and i will kill you ...\n2        Positive  im coming on borderlands and i will murder you...\n3        Positive  im getting on borderlands 2 and i will murder ...\n4        Positive  im getting into borderlands and i can murder y...\n...           ...                                                ...\n75675  Irrelevant  ⭐️ Toronto is the arts and culture capital of ...\n75676  Irrelevant  tHIS IS ACTUALLY A GOOD MOVE TOT BRING MORE VI...\n75677    Positive  Today sucked so it’s time to drink wine n play...\n75678    Positive  Bought a fraction of Microsoft today. Small wins.\n75679     Neutral  Johnson & Johnson to stop selling talc baby po...\n\n[75680 rows x 2 columns]",
            "text/html": "<div>\n<style scoped>\n    .dataframe tbody tr th:only-of-type {\n        vertical-align: middle;\n    }\n\n    .dataframe tbody tr th {\n        vertical-align: top;\n    }\n\n    .dataframe thead th {\n        text-align: right;\n    }\n</style>\n<table border=\"1\" class=\"dataframe\">\n  <thead>\n    <tr style=\"text-align: right;\">\n      <th></th>\n      <th>labels</th>\n      <th>text</th>\n    </tr>\n  </thead>\n  <tbody>\n    <tr>\n      <th>0</th>\n      <td>Positive</td>\n      <td>I am coming to the borders and I will kill you...</td>\n    </tr>\n    <tr>\n      <th>1</th>\n      <td>Positive</td>\n      <td>im getting on borderlands and i will kill you ...</td>\n    </tr>\n    <tr>\n      <th>2</th>\n      <td>Positive</td>\n      <td>im coming on borderlands and i will murder you...</td>\n    </tr>\n    <tr>\n      <th>3</th>\n      <td>Positive</td>\n      <td>im getting on borderlands 2 and i will murder ...</td>\n    </tr>\n    <tr>\n      <th>4</th>\n      <td>Positive</td>\n      <td>im getting into borderlands and i can murder y...</td>\n    </tr>\n    <tr>\n      <th>...</th>\n      <td>...</td>\n      <td>...</td>\n    </tr>\n    <tr>\n      <th>75675</th>\n      <td>Irrelevant</td>\n      <td>⭐️ Toronto is the arts and culture capital of ...</td>\n    </tr>\n    <tr>\n      <th>75676</th>\n      <td>Irrelevant</td>\n      <td>tHIS IS ACTUALLY A GOOD MOVE TOT BRING MORE VI...</td>\n    </tr>\n    <tr>\n      <th>75677</th>\n      <td>Positive</td>\n      <td>Today sucked so it’s time to drink wine n play...</td>\n    </tr>\n    <tr>\n      <th>75678</th>\n      <td>Positive</td>\n      <td>Bought a fraction of Microsoft today. Small wins.</td>\n    </tr>\n    <tr>\n      <th>75679</th>\n      <td>Neutral</td>\n      <td>Johnson &amp; Johnson to stop selling talc baby po...</td>\n    </tr>\n  </tbody>\n</table>\n<p>75680 rows × 2 columns</p>\n</div>"
          },
          "metadata": {}
        }
      ]
    },
    {
      "cell_type": "markdown",
      "source": [
        "- Check for cleaning data"
      ],
      "metadata": {
        "id": "Ndaw7hZqUTKF"
      }
    },
    {
      "cell_type": "code",
      "source": [
        "sentiment.info()"
      ],
      "metadata": {
        "execution": {
          "iopub.status.busy": "2024-10-13T14:09:34.291949Z",
          "iopub.execute_input": "2024-10-13T14:09:34.292292Z",
          "iopub.status.idle": "2024-10-13T14:09:34.327111Z",
          "shell.execute_reply.started": "2024-10-13T14:09:34.292262Z",
          "shell.execute_reply": "2024-10-13T14:09:34.326207Z"
        },
        "trusted": true,
        "id": "-BfvBSB-UTKF",
        "outputId": "ef68c7d9-e041-4028-8e5c-24245921b717"
      },
      "execution_count": null,
      "outputs": [
        {
          "name": "stdout",
          "text": "<class 'pandas.core.frame.DataFrame'>\nRangeIndex: 75680 entries, 0 to 75679\nData columns (total 2 columns):\n #   Column  Non-Null Count  Dtype \n---  ------  --------------  ----- \n 0   labels  75680 non-null  object\n 1   text    74994 non-null  object\ndtypes: object(2)\nmemory usage: 1.2+ MB\n",
          "output_type": "stream"
        }
      ]
    },
    {
      "cell_type": "code",
      "source": [
        "sentiment.isnull().sum()"
      ],
      "metadata": {
        "execution": {
          "iopub.status.busy": "2024-10-13T14:09:34.328329Z",
          "iopub.execute_input": "2024-10-13T14:09:34.328696Z",
          "iopub.status.idle": "2024-10-13T14:09:34.358137Z",
          "shell.execute_reply.started": "2024-10-13T14:09:34.328668Z",
          "shell.execute_reply": "2024-10-13T14:09:34.357129Z"
        },
        "trusted": true,
        "id": "1HJfdV-QUTKF",
        "outputId": "45f3ef24-af8c-4178-9517-a127c75f66f9"
      },
      "execution_count": null,
      "outputs": [
        {
          "execution_count": 12,
          "output_type": "execute_result",
          "data": {
            "text/plain": "labels      0\ntext      686\ndtype: int64"
          },
          "metadata": {}
        }
      ]
    },
    {
      "cell_type": "code",
      "source": [
        "sentiment.dropna(inplace=True)\n",
        "sentiment.isnull().sum()"
      ],
      "metadata": {
        "execution": {
          "iopub.status.busy": "2024-10-13T14:09:34.35976Z",
          "iopub.execute_input": "2024-10-13T14:09:34.360678Z",
          "iopub.status.idle": "2024-10-13T14:09:34.414312Z",
          "shell.execute_reply.started": "2024-10-13T14:09:34.360647Z",
          "shell.execute_reply": "2024-10-13T14:09:34.413257Z"
        },
        "trusted": true,
        "id": "DGU3MSZTUTKG",
        "outputId": "0bebe8b5-94eb-4d39-ddec-10f8dab6acc2"
      },
      "execution_count": null,
      "outputs": [
        {
          "execution_count": 13,
          "output_type": "execute_result",
          "data": {
            "text/plain": "labels    0\ntext      0\ndtype: int64"
          },
          "metadata": {}
        }
      ]
    },
    {
      "cell_type": "code",
      "source": [
        "sentiment.duplicated().sum()"
      ],
      "metadata": {
        "execution": {
          "iopub.status.busy": "2024-10-13T14:09:34.415834Z",
          "iopub.execute_input": "2024-10-13T14:09:34.416209Z",
          "iopub.status.idle": "2024-10-13T14:09:34.472267Z",
          "shell.execute_reply.started": "2024-10-13T14:09:34.416176Z",
          "shell.execute_reply": "2024-10-13T14:09:34.47124Z"
        },
        "trusted": true,
        "id": "9ySVLO0zUTKG",
        "outputId": "a1002995-311a-4c80-aaf3-fc8a30e678ee"
      },
      "execution_count": null,
      "outputs": [
        {
          "execution_count": 14,
          "output_type": "execute_result",
          "data": {
            "text/plain": "4743"
          },
          "metadata": {}
        }
      ]
    },
    {
      "cell_type": "code",
      "source": [
        "sentiment.drop_duplicates(inplace=True)\n",
        "sentiment.duplicated().sum()"
      ],
      "metadata": {
        "execution": {
          "iopub.status.busy": "2024-10-13T14:09:34.473346Z",
          "iopub.execute_input": "2024-10-13T14:09:34.473611Z",
          "iopub.status.idle": "2024-10-13T14:09:34.560649Z",
          "shell.execute_reply.started": "2024-10-13T14:09:34.47359Z",
          "shell.execute_reply": "2024-10-13T14:09:34.559766Z"
        },
        "trusted": true,
        "id": "4N9u4EP9UTKG",
        "outputId": "1dc15881-1368-404e-dbaa-cd0c283234b7"
      },
      "execution_count": null,
      "outputs": [
        {
          "execution_count": 15,
          "output_type": "execute_result",
          "data": {
            "text/plain": "0"
          },
          "metadata": {}
        }
      ]
    },
    {
      "cell_type": "markdown",
      "source": [
        "- preprocessing the text n the data:"
      ],
      "metadata": {
        "id": "gBxdpNm7UTKG"
      }
    },
    {
      "cell_type": "code",
      "source": [
        "import re\n",
        "import nltk\n",
        "from nltk.tokenize import word_tokenize\n",
        "from nltk.corpus import stopwords\n",
        "from nltk.stem import WordNetLemmatizer\n",
        "import numpy as np\n",
        "nltk.download('wordnet', \"/kaggle/working/nltk_data/\")\n",
        "nltk.download('omw-1.4', \"/kaggle/working/nltk_data/\")\n",
        "! unzip /kaggle/working/nltk_data/corpora/wordnet.zip -d /kaggle/working/nltk_data/corpora\n",
        "! unzip /kaggle/working/nltk_data/corpora/omw-1.4.zip -d /kaggle/working/nltk_data/corpora\n",
        "nltk.data.path.append(\"/kaggle/working/nltk_data/\")"
      ],
      "metadata": {
        "execution": {
          "iopub.status.busy": "2024-10-13T14:09:34.561823Z",
          "iopub.execute_input": "2024-10-13T14:09:34.56209Z",
          "iopub.status.idle": "2024-10-13T14:09:39.00395Z",
          "shell.execute_reply.started": "2024-10-13T14:09:34.562068Z",
          "shell.execute_reply": "2024-10-13T14:09:39.002839Z"
        },
        "trusted": true,
        "id": "IMKmcs3NUTKG",
        "outputId": "3b616d1e-809a-4c03-b5bf-c5398d6d5a6b"
      },
      "execution_count": null,
      "outputs": [
        {
          "name": "stdout",
          "text": "[nltk_data] Downloading package wordnet to\n[nltk_data]     /kaggle/working/nltk_data/...\n[nltk_data] Downloading package omw-1.4 to\n[nltk_data]     /kaggle/working/nltk_data/...\nArchive:  /kaggle/working/nltk_data/corpora/wordnet.zip\n   creating: /kaggle/working/nltk_data/corpora/wordnet/\n  inflating: /kaggle/working/nltk_data/corpora/wordnet/lexnames  \n  inflating: /kaggle/working/nltk_data/corpora/wordnet/data.verb  \n  inflating: /kaggle/working/nltk_data/corpora/wordnet/index.adv  \n  inflating: /kaggle/working/nltk_data/corpora/wordnet/adv.exc  \n  inflating: /kaggle/working/nltk_data/corpora/wordnet/index.verb  \n  inflating: /kaggle/working/nltk_data/corpora/wordnet/cntlist.rev  \n  inflating: /kaggle/working/nltk_data/corpora/wordnet/data.adj  \n  inflating: /kaggle/working/nltk_data/corpora/wordnet/index.adj  \n  inflating: /kaggle/working/nltk_data/corpora/wordnet/LICENSE  \n  inflating: /kaggle/working/nltk_data/corpora/wordnet/citation.bib  \n  inflating: /kaggle/working/nltk_data/corpora/wordnet/noun.exc  \n  inflating: /kaggle/working/nltk_data/corpora/wordnet/verb.exc  \n  inflating: /kaggle/working/nltk_data/corpora/wordnet/README  \n  inflating: /kaggle/working/nltk_data/corpora/wordnet/index.sense  \n  inflating: /kaggle/working/nltk_data/corpora/wordnet/data.noun  \n  inflating: /kaggle/working/nltk_data/corpora/wordnet/data.adv  \n  inflating: /kaggle/working/nltk_data/corpora/wordnet/index.noun  \n  inflating: /kaggle/working/nltk_data/corpora/wordnet/adj.exc  \nArchive:  /kaggle/working/nltk_data/corpora/omw-1.4.zip\n   creating: /kaggle/working/nltk_data/corpora/omw-1.4/\n   creating: /kaggle/working/nltk_data/corpora/omw-1.4/fin/\n  inflating: /kaggle/working/nltk_data/corpora/omw-1.4/fin/LICENSE  \n  inflating: /kaggle/working/nltk_data/corpora/omw-1.4/fin/citation.bib  \n  inflating: /kaggle/working/nltk_data/corpora/omw-1.4/fin/wn-data-fin.tab  \n   creating: /kaggle/working/nltk_data/corpora/omw-1.4/heb/\n  inflating: /kaggle/working/nltk_data/corpora/omw-1.4/heb/LICENSE  \n  inflating: /kaggle/working/nltk_data/corpora/omw-1.4/heb/citation.bib  \n  inflating: /kaggle/working/nltk_data/corpora/omw-1.4/heb/README  \n  inflating: /kaggle/working/nltk_data/corpora/omw-1.4/heb/wn-data-heb.tab  \n   creating: /kaggle/working/nltk_data/corpora/omw-1.4/slv/\n  inflating: /kaggle/working/nltk_data/corpora/omw-1.4/slv/LICENSE  \n  inflating: /kaggle/working/nltk_data/corpora/omw-1.4/slv/citation.bib  \n  inflating: /kaggle/working/nltk_data/corpora/omw-1.4/slv/README  \n  inflating: /kaggle/working/nltk_data/corpora/omw-1.4/slv/wn-data-slv.tab  \n   creating: /kaggle/working/nltk_data/corpora/omw-1.4/ita/\n  inflating: /kaggle/working/nltk_data/corpora/omw-1.4/ita/LICENSE  \n  inflating: /kaggle/working/nltk_data/corpora/omw-1.4/ita/citation.bib  \n  inflating: /kaggle/working/nltk_data/corpora/omw-1.4/ita/wn-data-ita.tab  \n extracting: /kaggle/working/nltk_data/corpora/omw-1.4/ita/README  \n   creating: /kaggle/working/nltk_data/corpora/omw-1.4/nor/\n  inflating: /kaggle/working/nltk_data/corpora/omw-1.4/nor/LICENSE  \n  inflating: /kaggle/working/nltk_data/corpora/omw-1.4/nor/citation.bib  \n  inflating: /kaggle/working/nltk_data/corpora/omw-1.4/nor/README  \n  inflating: /kaggle/working/nltk_data/corpora/omw-1.4/nor/wn-data-nno.tab  \n  inflating: /kaggle/working/nltk_data/corpora/omw-1.4/nor/wn-data-nob.tab  \n   creating: /kaggle/working/nltk_data/corpora/omw-1.4/als/\n  inflating: /kaggle/working/nltk_data/corpora/omw-1.4/als/wn-data-als.tab  \n  inflating: /kaggle/working/nltk_data/corpora/omw-1.4/als/LICENSE  \n  inflating: /kaggle/working/nltk_data/corpora/omw-1.4/als/citation.bib  \n  inflating: /kaggle/working/nltk_data/corpora/omw-1.4/als/README  \n   creating: /kaggle/working/nltk_data/corpora/omw-1.4/pol/\n  inflating: /kaggle/working/nltk_data/corpora/omw-1.4/pol/LICENSE  \n  inflating: /kaggle/working/nltk_data/corpora/omw-1.4/pol/citation.bib  \n  inflating: /kaggle/working/nltk_data/corpora/omw-1.4/pol/wn-data-pol.tab  \n   creating: /kaggle/working/nltk_data/corpora/omw-1.4/hrv/\n extracting: /kaggle/working/nltk_data/corpora/omw-1.4/hrv/LICENSE  \n  inflating: /kaggle/working/nltk_data/corpora/omw-1.4/hrv/citation.bib  \n  inflating: /kaggle/working/nltk_data/corpora/omw-1.4/hrv/wn-data-hrv.tab  \n  inflating: /kaggle/working/nltk_data/corpora/omw-1.4/hrv/README  \n  inflating: /kaggle/working/nltk_data/corpora/omw-1.4/citation.bib  \n   creating: /kaggle/working/nltk_data/corpora/omw-1.4/iwn/\n  inflating: /kaggle/working/nltk_data/corpora/omw-1.4/iwn/LICENSE  \n  inflating: /kaggle/working/nltk_data/corpora/omw-1.4/iwn/citation.bib  \n  inflating: /kaggle/working/nltk_data/corpora/omw-1.4/iwn/wn-data-ita.tab  \n  inflating: /kaggle/working/nltk_data/corpora/omw-1.4/iwn/README  \n   creating: /kaggle/working/nltk_data/corpora/omw-1.4/nld/\n  inflating: /kaggle/working/nltk_data/corpora/omw-1.4/nld/LICENSE  \n  inflating: /kaggle/working/nltk_data/corpora/omw-1.4/nld/wn-data-nld.tab  \n  inflating: /kaggle/working/nltk_data/corpora/omw-1.4/nld/citation.bib  \n   creating: /kaggle/working/nltk_data/corpora/omw-1.4/ron/\n  inflating: /kaggle/working/nltk_data/corpora/omw-1.4/ron/LICENSE  \n  inflating: /kaggle/working/nltk_data/corpora/omw-1.4/ron/citation.bib  \n  inflating: /kaggle/working/nltk_data/corpora/omw-1.4/ron/wn-data-ron.tab  \n  inflating: /kaggle/working/nltk_data/corpora/omw-1.4/ron/README  \n   creating: /kaggle/working/nltk_data/corpora/omw-1.4/arb/\n  inflating: /kaggle/working/nltk_data/corpora/omw-1.4/arb/LICENSE  \n  inflating: /kaggle/working/nltk_data/corpora/omw-1.4/arb/citation.bib  \n  inflating: /kaggle/working/nltk_data/corpora/omw-1.4/arb/README  \n  inflating: /kaggle/working/nltk_data/corpora/omw-1.4/arb/wn-data-arb.tab  \n   creating: /kaggle/working/nltk_data/corpora/omw-1.4/isl/\n  inflating: /kaggle/working/nltk_data/corpora/omw-1.4/isl/LICENSE  \n  inflating: /kaggle/working/nltk_data/corpora/omw-1.4/isl/citation.bib  \n  inflating: /kaggle/working/nltk_data/corpora/omw-1.4/isl/README  \n  inflating: /kaggle/working/nltk_data/corpora/omw-1.4/isl/wn-data-isl.tab  \n   creating: /kaggle/working/nltk_data/corpora/omw-1.4/swe/\n  inflating: /kaggle/working/nltk_data/corpora/omw-1.4/swe/LICENSE  \n  inflating: /kaggle/working/nltk_data/corpora/omw-1.4/swe/citation.bib  \n  inflating: /kaggle/working/nltk_data/corpora/omw-1.4/swe/README  \n  inflating: /kaggle/working/nltk_data/corpora/omw-1.4/swe/wn-data-swe.tab  \n   creating: /kaggle/working/nltk_data/corpora/omw-1.4/por/\n  inflating: /kaggle/working/nltk_data/corpora/omw-1.4/por/LICENSE  \n  inflating: /kaggle/working/nltk_data/corpora/omw-1.4/por/citation.bib  \n  inflating: /kaggle/working/nltk_data/corpora/omw-1.4/por/wn-data-por.tab  \n  inflating: /kaggle/working/nltk_data/corpora/omw-1.4/por/README  \n  inflating: /kaggle/working/nltk_data/corpora/omw-1.4/README  \n   creating: /kaggle/working/nltk_data/corpora/omw-1.4/cow/\n  inflating: /kaggle/working/nltk_data/corpora/omw-1.4/cow/wn-data-cmn.tab  \n  inflating: /kaggle/working/nltk_data/corpora/omw-1.4/cow/LICENSE  \n  inflating: /kaggle/working/nltk_data/corpora/omw-1.4/cow/citation.bib  \n   creating: /kaggle/working/nltk_data/corpora/omw-1.4/jpn/\n  inflating: /kaggle/working/nltk_data/corpora/omw-1.4/jpn/LICENSE  \n  inflating: /kaggle/working/nltk_data/corpora/omw-1.4/jpn/citation.bib  \n  inflating: /kaggle/working/nltk_data/corpora/omw-1.4/jpn/README  \n  inflating: /kaggle/working/nltk_data/corpora/omw-1.4/jpn/wn-data-jpn.tab  \n   creating: /kaggle/working/nltk_data/corpora/omw-1.4/dan/\n  inflating: /kaggle/working/nltk_data/corpora/omw-1.4/dan/LICENSE  \n  inflating: /kaggle/working/nltk_data/corpora/omw-1.4/dan/citation.bib  \n  inflating: /kaggle/working/nltk_data/corpora/omw-1.4/dan/wn-data-dan.tab  \n   creating: /kaggle/working/nltk_data/corpora/omw-1.4/slk/\n  inflating: /kaggle/working/nltk_data/corpora/omw-1.4/slk/LICENSE  \n  inflating: /kaggle/working/nltk_data/corpora/omw-1.4/slk/citation.bib  \n  inflating: /kaggle/working/nltk_data/corpora/omw-1.4/slk/wn-data-slk.tab  \n  inflating: /kaggle/working/nltk_data/corpora/omw-1.4/slk/wn-data-lit.tab  \n  inflating: /kaggle/working/nltk_data/corpora/omw-1.4/slk/README  \n   creating: /kaggle/working/nltk_data/corpora/omw-1.4/bul/\n  inflating: /kaggle/working/nltk_data/corpora/omw-1.4/bul/LICENSE  \n  inflating: /kaggle/working/nltk_data/corpora/omw-1.4/bul/citation.bib  \n  inflating: /kaggle/working/nltk_data/corpora/omw-1.4/bul/wn-data-bul.tab  \n  inflating: /kaggle/working/nltk_data/corpora/omw-1.4/bul/README  \n   creating: /kaggle/working/nltk_data/corpora/omw-1.4/mcr/\n  inflating: /kaggle/working/nltk_data/corpora/omw-1.4/mcr/LICENSE  \n  inflating: /kaggle/working/nltk_data/corpora/omw-1.4/mcr/citation.bib  \n  inflating: /kaggle/working/nltk_data/corpora/omw-1.4/mcr/wn-data-eus.tab  \n  inflating: /kaggle/working/nltk_data/corpora/omw-1.4/mcr/wn-data-cat.tab  \n  inflating: /kaggle/working/nltk_data/corpora/omw-1.4/mcr/wn-data-glg.tab  \n  inflating: /kaggle/working/nltk_data/corpora/omw-1.4/mcr/wn-data-spa.tab  \n   creating: /kaggle/working/nltk_data/corpora/omw-1.4/ell/\n  inflating: /kaggle/working/nltk_data/corpora/omw-1.4/ell/LICENSE  \n  inflating: /kaggle/working/nltk_data/corpora/omw-1.4/ell/wn-data-ell.tab  \n  inflating: /kaggle/working/nltk_data/corpora/omw-1.4/ell/README  \n   creating: /kaggle/working/nltk_data/corpora/omw-1.4/msa/\n  inflating: /kaggle/working/nltk_data/corpora/omw-1.4/msa/LICENSE  \n  inflating: /kaggle/working/nltk_data/corpora/omw-1.4/msa/citation.bib  \n  inflating: /kaggle/working/nltk_data/corpora/omw-1.4/msa/wn-data-zsm.tab  \n  inflating: /kaggle/working/nltk_data/corpora/omw-1.4/msa/wn-data-ind.tab  \n  inflating: /kaggle/working/nltk_data/corpora/omw-1.4/msa/README  \n   creating: /kaggle/working/nltk_data/corpora/omw-1.4/fra/\n  inflating: /kaggle/working/nltk_data/corpora/omw-1.4/fra/LICENSE  \n  inflating: /kaggle/working/nltk_data/corpora/omw-1.4/fra/citation.bib  \n  inflating: /kaggle/working/nltk_data/corpora/omw-1.4/fra/wn-data-fra.tab  \n   creating: /kaggle/working/nltk_data/corpora/omw-1.4/tha/\n  inflating: /kaggle/working/nltk_data/corpora/omw-1.4/tha/LICENSE  \n  inflating: /kaggle/working/nltk_data/corpora/omw-1.4/tha/citation.bib  \n  inflating: /kaggle/working/nltk_data/corpora/omw-1.4/tha/wn-data-tha.tab  \n",
          "output_type": "stream"
        }
      ]
    },
    {
      "cell_type": "markdown",
      "source": [
        "- this function for cleaning the text:"
      ],
      "metadata": {
        "id": "Osgrd7_gUTKG"
      }
    },
    {
      "cell_type": "code",
      "source": [
        "\n",
        "def process_text(text):\n",
        "    text = re.sub(r'\\s+', ' ', text, flags=re.I) # Remove extra white space from text\n",
        "\n",
        "    text = re.sub(r'\\W', ' ', str(text)) # Remove all the special characters from text\n",
        "\n",
        "    text = re.sub(r'\\s+[a-zA-Z]\\s+', ' ', text) # Remove all single characters from text\n",
        "\n",
        "    text = re.sub(r'[^a-zA-Z\\s]', '', text) # Remove any character that isn't alphabetical\n",
        "\n",
        "    text = text.lower()\n",
        "\n",
        "    words = word_tokenize(text)\n",
        "\n",
        "    lemmatizer = WordNetLemmatizer()\n",
        "    words = [lemmatizer.lemmatize(word) for word in words]\n",
        "\n",
        "    stop_words = set(stopwords.words(\"english\"))\n",
        "    Words = [word for word in words if word not in stop_words]\n",
        "\n",
        "    Words = [word for word in Words if len(word) > 3]\n",
        "\n",
        "    indices = np.unique(Words, return_index=True)[1]\n",
        "    cleaned_text = np.array(Words)[np.sort(indices)].tolist()\n",
        "\n",
        "    return cleaned_text"
      ],
      "metadata": {
        "execution": {
          "iopub.status.busy": "2024-10-13T14:09:39.005492Z",
          "iopub.execute_input": "2024-10-13T14:09:39.005817Z",
          "iopub.status.idle": "2024-10-13T14:09:39.014663Z",
          "shell.execute_reply.started": "2024-10-13T14:09:39.005786Z",
          "shell.execute_reply": "2024-10-13T14:09:39.01363Z"
        },
        "trusted": true,
        "id": "w9Q4XzYzUTKH"
      },
      "execution_count": null,
      "outputs": []
    },
    {
      "cell_type": "code",
      "source": [
        "x=sentiment.drop('labels',axis=1)\n",
        "y=sentiment.labels"
      ],
      "metadata": {
        "execution": {
          "iopub.status.busy": "2024-10-13T14:09:39.015887Z",
          "iopub.execute_input": "2024-10-13T14:09:39.016154Z",
          "iopub.status.idle": "2024-10-13T14:09:39.038578Z",
          "shell.execute_reply.started": "2024-10-13T14:09:39.016131Z",
          "shell.execute_reply": "2024-10-13T14:09:39.037647Z"
        },
        "trusted": true,
        "id": "Jzp1N_-iUTKH"
      },
      "execution_count": null,
      "outputs": []
    },
    {
      "cell_type": "code",
      "source": [
        "texts=list(x['text'])"
      ],
      "metadata": {
        "execution": {
          "iopub.status.busy": "2024-10-13T14:09:39.039945Z",
          "iopub.execute_input": "2024-10-13T14:09:39.040563Z",
          "iopub.status.idle": "2024-10-13T14:09:39.057555Z",
          "shell.execute_reply.started": "2024-10-13T14:09:39.040531Z",
          "shell.execute_reply": "2024-10-13T14:09:39.056632Z"
        },
        "trusted": true,
        "id": "Vy_HZL2KUTKH"
      },
      "execution_count": null,
      "outputs": []
    },
    {
      "cell_type": "code",
      "source": [
        "cleaned_text = [process_text(text) for text in texts]"
      ],
      "metadata": {
        "execution": {
          "iopub.status.busy": "2024-10-13T14:09:39.058983Z",
          "iopub.execute_input": "2024-10-13T14:09:39.05933Z",
          "iopub.status.idle": "2024-10-13T14:10:26.223492Z",
          "shell.execute_reply.started": "2024-10-13T14:09:39.059299Z",
          "shell.execute_reply": "2024-10-13T14:10:26.222435Z"
        },
        "trusted": true,
        "id": "x9MObY9_UTKH"
      },
      "execution_count": null,
      "outputs": []
    },
    {
      "cell_type": "code",
      "source": [
        "print(cleaned_text[:10])"
      ],
      "metadata": {
        "execution": {
          "iopub.status.busy": "2024-10-13T14:10:26.22482Z",
          "iopub.execute_input": "2024-10-13T14:10:26.22607Z",
          "iopub.status.idle": "2024-10-13T14:10:26.231119Z",
          "shell.execute_reply.started": "2024-10-13T14:10:26.226041Z",
          "shell.execute_reply": "2024-10-13T14:10:26.230142Z"
        },
        "trusted": true,
        "id": "ruLY9m6tUTKH",
        "outputId": "7b300692-77a7-40b4-94cb-48268d319cda"
      },
      "execution_count": null,
      "outputs": [
        {
          "name": "stdout",
          "text": "[['coming', 'border', 'kill'], ['getting', 'borderland', 'kill'], ['coming', 'borderland', 'murder'], ['getting', 'borderland', 'murder'], ['getting', 'borderland', 'murder'], ['spent', 'hour', 'making', 'something', 'know', 'huge', 'borderland', 'maya', 'favorite', 'character', 'decided', 'make', 'wallpaper', 'original', 'image', 'versus', 'creation', 'made', 'enjoy', 'twitter', 'mlsiwfjg'], ['spent', 'couple', 'hour', 'something', 'know', 'huge', 'borderland', 'maya', 'favorite', 'character', 'decided', 'make', 'wallpaper', 'original', 'picture', 'compared', 'creation', 'made', 'twitter', 'mlsiwfjg'], ['spent', 'hour', 'something', 'know', 'huge', 'borderland', 'maya', 'favorite', 'character'], ['spent', 'hour', 'making', 'something', 'know', 'huge', 'rhandlerr', 'maya', 'favorite', 'character', 'decided', 'make', 'wallpaper', 'original', 'image', 'versus', 'creation', 'made', 'enjoy', 'twitter', 'mlsiwfjg'], ['spent', 'hour', 'making', 'something', 'know', 'huge', 'rhandlerr', 'maya', 'favorite', 'character', 'decided', 'make', 'wallpaper', 'original', 'image', 'versus', 'creation', 'made', 'enjoy', 'twitter', 'mlsiwfjg']]\n",
          "output_type": "stream"
        }
      ]
    },
    {
      "cell_type": "code",
      "source": [
        "from sklearn.model_selection import train_test_split\n",
        "X_train, X_test, y_train, y_test = train_test_split(cleaned_text, y, test_size=0.2, random_state=42)"
      ],
      "metadata": {
        "execution": {
          "iopub.status.busy": "2024-10-13T14:10:26.232413Z",
          "iopub.execute_input": "2024-10-13T14:10:26.232986Z",
          "iopub.status.idle": "2024-10-13T14:10:26.280844Z",
          "shell.execute_reply.started": "2024-10-13T14:10:26.23295Z",
          "shell.execute_reply": "2024-10-13T14:10:26.279566Z"
        },
        "trusted": true,
        "id": "tuswjO8uUTKI"
      },
      "execution_count": null,
      "outputs": []
    },
    {
      "cell_type": "markdown",
      "source": [
        "- prepare the data to the model:"
      ],
      "metadata": {
        "id": "xAAntS-JUTKI"
      }
    },
    {
      "cell_type": "code",
      "source": [
        "from tensorflow.keras.preprocessing.text import Tokenizer\n",
        "from tensorflow.keras.preprocessing.sequence import pad_sequences\n",
        "\n",
        "max_vocab = 40000\n",
        "tokenizer = Tokenizer(num_words=max_vocab)\n",
        "tokenizer.fit_on_texts(X_train)\n",
        "word_idx = tokenizer.word_index  # Corrected syntax for accessing word index\n",
        "v = len(word_idx)\n",
        "print(\"the size of vocab =\", v)  # Corrected spacing\n",
        "X_train = tokenizer.texts_to_sequences(X_train)\n",
        "X_test = tokenizer.texts_to_sequences(X_test)\n"
      ],
      "metadata": {
        "execution": {
          "iopub.status.busy": "2024-10-13T14:10:26.282038Z",
          "iopub.execute_input": "2024-10-13T14:10:26.282377Z",
          "iopub.status.idle": "2024-10-13T14:10:38.732461Z",
          "shell.execute_reply.started": "2024-10-13T14:10:26.282346Z",
          "shell.execute_reply": "2024-10-13T14:10:38.731615Z"
        },
        "trusted": true,
        "id": "3d9jf8h4UTKJ",
        "outputId": "92f7a540-1764-4b55-dbda-070fb02f23c9"
      },
      "execution_count": null,
      "outputs": [
        {
          "name": "stderr",
          "text": "2024-10-13 14:10:28.073730: E external/local_xla/xla/stream_executor/cuda/cuda_dnn.cc:9261] Unable to register cuDNN factory: Attempting to register factory for plugin cuDNN when one has already been registered\n2024-10-13 14:10:28.073838: E external/local_xla/xla/stream_executor/cuda/cuda_fft.cc:607] Unable to register cuFFT factory: Attempting to register factory for plugin cuFFT when one has already been registered\n2024-10-13 14:10:28.198777: E external/local_xla/xla/stream_executor/cuda/cuda_blas.cc:1515] Unable to register cuBLAS factory: Attempting to register factory for plugin cuBLAS when one has already been registered\n",
          "output_type": "stream"
        },
        {
          "name": "stdout",
          "text": "the size of vocab = 24048\n",
          "output_type": "stream"
        }
      ]
    },
    {
      "cell_type": "code",
      "source": [
        "from tensorflow.keras.preprocessing.sequence import pad_sequences\n",
        "\n",
        "maxlen = 100\n",
        "X_train = pad_sequences(X_train,maxlen=maxlen)\n",
        "X_test = pad_sequences(X_test,maxlen=maxlen)\n",
        "\n"
      ],
      "metadata": {
        "execution": {
          "iopub.status.busy": "2024-10-13T14:10:38.733627Z",
          "iopub.execute_input": "2024-10-13T14:10:38.734204Z",
          "iopub.status.idle": "2024-10-13T14:10:39.036432Z",
          "shell.execute_reply.started": "2024-10-13T14:10:38.734166Z",
          "shell.execute_reply": "2024-10-13T14:10:39.035644Z"
        },
        "trusted": true,
        "id": "p9mpSbQFUTKJ"
      },
      "execution_count": null,
      "outputs": []
    },
    {
      "cell_type": "code",
      "source": [
        "y.value_counts()"
      ],
      "metadata": {
        "execution": {
          "iopub.status.busy": "2024-10-13T14:10:39.03751Z",
          "iopub.execute_input": "2024-10-13T14:10:39.037804Z",
          "iopub.status.idle": "2024-10-13T14:10:39.054069Z",
          "shell.execute_reply.started": "2024-10-13T14:10:39.037779Z",
          "shell.execute_reply": "2024-10-13T14:10:39.053138Z"
        },
        "trusted": true,
        "id": "ye4kcZj5UTKJ",
        "outputId": "4842a4ed-2063-495b-b5f4-206ab9e26751"
      },
      "execution_count": null,
      "outputs": [
        {
          "execution_count": 25,
          "output_type": "execute_result",
          "data": {
            "text/plain": "labels\nNegative      21329\nPositive      19270\nNeutral       17281\nIrrelevant    12371\nName: count, dtype: int64"
          },
          "metadata": {}
        }
      ]
    },
    {
      "cell_type": "markdown",
      "source": [
        "# build the model"
      ],
      "metadata": {
        "id": "xCpGGo60UTKK"
      }
    },
    {
      "cell_type": "code",
      "source": [
        "from keras.models import Sequential\n",
        "from keras.layers import Embedding, GRU, Dense,Input,GlobalMaxPooling1D,Dropout,Bidirectional\n",
        "from tensorflow.keras.models import Model\n",
        "from keras import optimizers\n",
        "import numpy as np\n",
        "D=100\n",
        "inputt=Input(shape=(maxlen,))"
      ],
      "metadata": {
        "execution": {
          "iopub.status.busy": "2024-10-13T14:10:39.055266Z",
          "iopub.execute_input": "2024-10-13T14:10:39.055536Z",
          "iopub.status.idle": "2024-10-13T14:10:39.066759Z",
          "shell.execute_reply.started": "2024-10-13T14:10:39.055504Z",
          "shell.execute_reply": "2024-10-13T14:10:39.065882Z"
        },
        "trusted": true,
        "id": "pAMlF0oFUTKK"
      },
      "execution_count": null,
      "outputs": []
    },
    {
      "cell_type": "code",
      "source": [
        "from tensorflow.keras.optimizers import Adam\n",
        "learning_rate = 0.0001  # Set your desired learning rate here\n",
        "x=Embedding(v+1,D)(inputt)\n",
        "x = Dropout(0.5)(x)\n",
        "x = Bidirectional(GRU(200))(x)\n",
        "x = Dense(32, activation='relu')(x)\n",
        "x = Dense(4, activation='softmax')(x)\n",
        "\n",
        "model = Model(inputt, x)\n",
        "\n",
        "# Define optimizer with specified learning rate\n",
        "optimizer = Adam(learning_rate=learning_rate)\n",
        "\n",
        "model.compile(optimizer=optimizer, loss='categorical_crossentropy', metrics=['accuracy'])\n"
      ],
      "metadata": {
        "execution": {
          "iopub.status.busy": "2024-10-13T14:10:39.068131Z",
          "iopub.execute_input": "2024-10-13T14:10:39.068484Z",
          "iopub.status.idle": "2024-10-13T14:10:40.238871Z",
          "shell.execute_reply.started": "2024-10-13T14:10:39.068454Z",
          "shell.execute_reply": "2024-10-13T14:10:40.23787Z"
        },
        "trusted": true,
        "id": "SuD4ElVRUTKK"
      },
      "execution_count": null,
      "outputs": []
    },
    {
      "cell_type": "code",
      "source": [
        "from sklearn.preprocessing import LabelEncoder\n",
        "\n",
        "label_encoder = LabelEncoder()\n",
        "y_train_encoded = label_encoder.fit_transform(y_train)\n",
        "y_test_encoded = label_encoder.transform(y_test)\n"
      ],
      "metadata": {
        "execution": {
          "iopub.status.busy": "2024-10-13T14:10:40.244137Z",
          "iopub.execute_input": "2024-10-13T14:10:40.244433Z",
          "iopub.status.idle": "2024-10-13T14:10:40.265759Z",
          "shell.execute_reply.started": "2024-10-13T14:10:40.244408Z",
          "shell.execute_reply": "2024-10-13T14:10:40.264919Z"
        },
        "trusted": true,
        "id": "GCbV_N9nUTKK"
      },
      "execution_count": null,
      "outputs": []
    },
    {
      "cell_type": "code",
      "source": [
        "import tensorflow as tf\n",
        "\n",
        "y_train_one_hot = tf.keras.utils.to_categorical(y_train_encoded)\n",
        "y_test_one_hot = tf.keras.utils.to_categorical(y_test_encoded)\n",
        "history = model.fit(X_train, y_train_one_hot, epochs=40, validation_data=(X_test, y_test_one_hot))\n"
      ],
      "metadata": {
        "execution": {
          "iopub.status.busy": "2024-10-13T14:10:40.267141Z",
          "iopub.execute_input": "2024-10-13T14:10:40.267415Z",
          "iopub.status.idle": "2024-10-13T14:30:57.570682Z",
          "shell.execute_reply.started": "2024-10-13T14:10:40.267392Z",
          "shell.execute_reply": "2024-10-13T14:30:57.569905Z"
        },
        "trusted": true,
        "id": "lwJPklRxUTKQ",
        "outputId": "aaae87f6-bbc3-4e66-dcb4-b6a45a863158"
      },
      "execution_count": null,
      "outputs": [
        {
          "name": "stdout",
          "text": "Epoch 1/40\n\u001b[1m1757/1757\u001b[0m \u001b[32m━━━━━━━━━━━━━━━━━━━━\u001b[0m\u001b[37m\u001b[0m \u001b[1m35s\u001b[0m 17ms/step - accuracy: 0.3745 - loss: 1.3074 - val_accuracy: 0.5811 - val_loss: 1.0154\nEpoch 2/40\n\u001b[1m1757/1757\u001b[0m \u001b[32m━━━━━━━━━━━━━━━━━━━━\u001b[0m\u001b[37m\u001b[0m \u001b[1m31s\u001b[0m 18ms/step - accuracy: 0.6104 - loss: 0.9477 - val_accuracy: 0.6597 - val_loss: 0.8410\nEpoch 3/40\n\u001b[1m1757/1757\u001b[0m \u001b[32m━━━━━━━━━━━━━━━━━━━━\u001b[0m\u001b[37m\u001b[0m \u001b[1m31s\u001b[0m 18ms/step - accuracy: 0.6812 - loss: 0.7888 - val_accuracy: 0.7180 - val_loss: 0.7299\nEpoch 4/40\n\u001b[1m1757/1757\u001b[0m \u001b[32m━━━━━━━━━━━━━━━━━━━━\u001b[0m\u001b[37m\u001b[0m \u001b[1m31s\u001b[0m 17ms/step - accuracy: 0.7447 - loss: 0.6563 - val_accuracy: 0.7565 - val_loss: 0.6476\nEpoch 5/40\n\u001b[1m1757/1757\u001b[0m \u001b[32m━━━━━━━━━━━━━━━━━━━━\u001b[0m\u001b[37m\u001b[0m \u001b[1m31s\u001b[0m 18ms/step - accuracy: 0.7912 - loss: 0.5527 - val_accuracy: 0.7898 - val_loss: 0.5684\nEpoch 6/40\n\u001b[1m1757/1757\u001b[0m \u001b[32m━━━━━━━━━━━━━━━━━━━━\u001b[0m\u001b[37m\u001b[0m \u001b[1m31s\u001b[0m 17ms/step - accuracy: 0.8264 - loss: 0.4681 - val_accuracy: 0.8133 - val_loss: 0.5109\nEpoch 7/40\n\u001b[1m1757/1757\u001b[0m \u001b[32m━━━━━━━━━━━━━━━━━━━━\u001b[0m\u001b[37m\u001b[0m \u001b[1m30s\u001b[0m 17ms/step - accuracy: 0.8478 - loss: 0.4089 - val_accuracy: 0.8313 - val_loss: 0.4594\nEpoch 8/40\n\u001b[1m1757/1757\u001b[0m \u001b[32m━━━━━━━━━━━━━━━━━━━━\u001b[0m\u001b[37m\u001b[0m \u001b[1m30s\u001b[0m 17ms/step - accuracy: 0.8664 - loss: 0.3588 - val_accuracy: 0.8429 - val_loss: 0.4352\nEpoch 9/40\n\u001b[1m1757/1757\u001b[0m \u001b[32m━━━━━━━━━━━━━━━━━━━━\u001b[0m\u001b[37m\u001b[0m \u001b[1m30s\u001b[0m 17ms/step - accuracy: 0.8784 - loss: 0.3272 - val_accuracy: 0.8513 - val_loss: 0.4027\nEpoch 10/40\n\u001b[1m1757/1757\u001b[0m \u001b[32m━━━━━━━━━━━━━━━━━━━━\u001b[0m\u001b[37m\u001b[0m \u001b[1m30s\u001b[0m 17ms/step - accuracy: 0.8899 - loss: 0.2965 - val_accuracy: 0.8553 - val_loss: 0.3984\nEpoch 11/40\n\u001b[1m1757/1757\u001b[0m \u001b[32m━━━━━━━━━━━━━━━━━━━━\u001b[0m\u001b[37m\u001b[0m \u001b[1m30s\u001b[0m 17ms/step - accuracy: 0.8978 - loss: 0.2727 - val_accuracy: 0.8607 - val_loss: 0.3795\nEpoch 12/40\n\u001b[1m1757/1757\u001b[0m \u001b[32m━━━━━━━━━━━━━━━━━━━━\u001b[0m\u001b[37m\u001b[0m \u001b[1m30s\u001b[0m 17ms/step - accuracy: 0.9032 - loss: 0.2553 - val_accuracy: 0.8662 - val_loss: 0.3644\nEpoch 13/40\n\u001b[1m1757/1757\u001b[0m \u001b[32m━━━━━━━━━━━━━━━━━━━━\u001b[0m\u001b[37m\u001b[0m \u001b[1m30s\u001b[0m 17ms/step - accuracy: 0.9091 - loss: 0.2418 - val_accuracy: 0.8693 - val_loss: 0.3621\nEpoch 14/40\n\u001b[1m1757/1757\u001b[0m \u001b[32m━━━━━━━━━━━━━━━━━━━━\u001b[0m\u001b[37m\u001b[0m \u001b[1m30s\u001b[0m 17ms/step - accuracy: 0.9120 - loss: 0.2300 - val_accuracy: 0.8710 - val_loss: 0.3623\nEpoch 15/40\n\u001b[1m1757/1757\u001b[0m \u001b[32m━━━━━━━━━━━━━━━━━━━━\u001b[0m\u001b[37m\u001b[0m \u001b[1m30s\u001b[0m 17ms/step - accuracy: 0.9180 - loss: 0.2179 - val_accuracy: 0.8743 - val_loss: 0.3528\nEpoch 16/40\n\u001b[1m1757/1757\u001b[0m \u001b[32m━━━━━━━━━━━━━━━━━━━━\u001b[0m\u001b[37m\u001b[0m \u001b[1m30s\u001b[0m 17ms/step - accuracy: 0.9202 - loss: 0.2111 - val_accuracy: 0.8742 - val_loss: 0.3630\nEpoch 17/40\n\u001b[1m1757/1757\u001b[0m \u001b[32m━━━━━━━━━━━━━━━━━━━━\u001b[0m\u001b[37m\u001b[0m \u001b[1m30s\u001b[0m 17ms/step - accuracy: 0.9243 - loss: 0.1980 - val_accuracy: 0.8740 - val_loss: 0.3611\nEpoch 18/40\n\u001b[1m1757/1757\u001b[0m \u001b[32m━━━━━━━━━━━━━━━━━━━━\u001b[0m\u001b[37m\u001b[0m \u001b[1m30s\u001b[0m 17ms/step - accuracy: 0.9278 - loss: 0.1904 - val_accuracy: 0.8766 - val_loss: 0.3625\nEpoch 19/40\n\u001b[1m1757/1757\u001b[0m \u001b[32m━━━━━━━━━━━━━━━━━━━━\u001b[0m\u001b[37m\u001b[0m \u001b[1m30s\u001b[0m 17ms/step - accuracy: 0.9312 - loss: 0.1814 - val_accuracy: 0.8794 - val_loss: 0.3598\nEpoch 20/40\n\u001b[1m1757/1757\u001b[0m \u001b[32m━━━━━━━━━━━━━━━━━━━━\u001b[0m\u001b[37m\u001b[0m \u001b[1m30s\u001b[0m 17ms/step - accuracy: 0.9307 - loss: 0.1811 - val_accuracy: 0.8804 - val_loss: 0.3606\nEpoch 21/40\n\u001b[1m1757/1757\u001b[0m \u001b[32m━━━━━━━━━━━━━━━━━━━━\u001b[0m\u001b[37m\u001b[0m \u001b[1m30s\u001b[0m 17ms/step - accuracy: 0.9357 - loss: 0.1670 - val_accuracy: 0.8806 - val_loss: 0.3601\nEpoch 22/40\n\u001b[1m1757/1757\u001b[0m \u001b[32m━━━━━━━━━━━━━━━━━━━━\u001b[0m\u001b[37m\u001b[0m \u001b[1m30s\u001b[0m 17ms/step - accuracy: 0.9360 - loss: 0.1660 - val_accuracy: 0.8811 - val_loss: 0.3549\nEpoch 23/40\n\u001b[1m1757/1757\u001b[0m \u001b[32m━━━━━━━━━━━━━━━━━━━━\u001b[0m\u001b[37m\u001b[0m \u001b[1m30s\u001b[0m 17ms/step - accuracy: 0.9387 - loss: 0.1596 - val_accuracy: 0.8846 - val_loss: 0.3586\nEpoch 24/40\n\u001b[1m1757/1757\u001b[0m \u001b[32m━━━━━━━━━━━━━━━━━━━━\u001b[0m\u001b[37m\u001b[0m \u001b[1m30s\u001b[0m 17ms/step - accuracy: 0.9405 - loss: 0.1543 - val_accuracy: 0.8841 - val_loss: 0.3667\nEpoch 25/40\n\u001b[1m1757/1757\u001b[0m \u001b[32m━━━━━━━━━━━━━━━━━━━━\u001b[0m\u001b[37m\u001b[0m \u001b[1m30s\u001b[0m 17ms/step - accuracy: 0.9417 - loss: 0.1517 - val_accuracy: 0.8854 - val_loss: 0.3655\nEpoch 26/40\n\u001b[1m1757/1757\u001b[0m \u001b[32m━━━━━━━━━━━━━━━━━━━━\u001b[0m\u001b[37m\u001b[0m \u001b[1m30s\u001b[0m 17ms/step - accuracy: 0.9447 - loss: 0.1440 - val_accuracy: 0.8839 - val_loss: 0.3672\nEpoch 27/40\n\u001b[1m1757/1757\u001b[0m \u001b[32m━━━━━━━━━━━━━━━━━━━━\u001b[0m\u001b[37m\u001b[0m \u001b[1m30s\u001b[0m 17ms/step - accuracy: 0.9442 - loss: 0.1419 - val_accuracy: 0.8861 - val_loss: 0.3750\nEpoch 28/40\n\u001b[1m1757/1757\u001b[0m \u001b[32m━━━━━━━━━━━━━━━━━━━━\u001b[0m\u001b[37m\u001b[0m \u001b[1m30s\u001b[0m 17ms/step - accuracy: 0.9482 - loss: 0.1373 - val_accuracy: 0.8890 - val_loss: 0.3755\nEpoch 29/40\n\u001b[1m1757/1757\u001b[0m \u001b[32m━━━━━━━━━━━━━━━━━━━━\u001b[0m\u001b[37m\u001b[0m \u001b[1m30s\u001b[0m 17ms/step - accuracy: 0.9476 - loss: 0.1355 - val_accuracy: 0.8872 - val_loss: 0.3680\nEpoch 30/40\n\u001b[1m1757/1757\u001b[0m \u001b[32m━━━━━━━━━━━━━━━━━━━━\u001b[0m\u001b[37m\u001b[0m \u001b[1m30s\u001b[0m 17ms/step - accuracy: 0.9480 - loss: 0.1343 - val_accuracy: 0.8860 - val_loss: 0.3748\nEpoch 31/40\n\u001b[1m1757/1757\u001b[0m \u001b[32m━━━━━━━━━━━━━━━━━━━━\u001b[0m\u001b[37m\u001b[0m \u001b[1m30s\u001b[0m 17ms/step - accuracy: 0.9510 - loss: 0.1273 - val_accuracy: 0.8871 - val_loss: 0.3742\nEpoch 32/40\n\u001b[1m1757/1757\u001b[0m \u001b[32m━━━━━━━━━━━━━━━━━━━━\u001b[0m\u001b[37m\u001b[0m \u001b[1m30s\u001b[0m 17ms/step - accuracy: 0.9512 - loss: 0.1296 - val_accuracy: 0.8902 - val_loss: 0.3754\nEpoch 33/40\n\u001b[1m1757/1757\u001b[0m \u001b[32m━━━━━━━━━━━━━━━━━━━━\u001b[0m\u001b[37m\u001b[0m \u001b[1m30s\u001b[0m 17ms/step - accuracy: 0.9513 - loss: 0.1270 - val_accuracy: 0.8885 - val_loss: 0.3916\nEpoch 34/40\n\u001b[1m1757/1757\u001b[0m \u001b[32m━━━━━━━━━━━━━━━━━━━━\u001b[0m\u001b[37m\u001b[0m \u001b[1m30s\u001b[0m 17ms/step - accuracy: 0.9517 - loss: 0.1238 - val_accuracy: 0.8888 - val_loss: 0.3872\nEpoch 35/40\n\u001b[1m1757/1757\u001b[0m \u001b[32m━━━━━━━━━━━━━━━━━━━━\u001b[0m\u001b[37m\u001b[0m \u001b[1m30s\u001b[0m 17ms/step - accuracy: 0.9534 - loss: 0.1218 - val_accuracy: 0.8898 - val_loss: 0.3912\nEpoch 36/40\n\u001b[1m1757/1757\u001b[0m \u001b[32m━━━━━━━━━━━━━━━━━━━━\u001b[0m\u001b[37m\u001b[0m \u001b[1m30s\u001b[0m 17ms/step - accuracy: 0.9546 - loss: 0.1163 - val_accuracy: 0.8889 - val_loss: 0.3843\nEpoch 37/40\n\u001b[1m1757/1757\u001b[0m \u001b[32m━━━━━━━━━━━━━━━━━━━━\u001b[0m\u001b[37m\u001b[0m \u001b[1m30s\u001b[0m 17ms/step - accuracy: 0.9565 - loss: 0.1146 - val_accuracy: 0.8905 - val_loss: 0.4006\nEpoch 38/40\n\u001b[1m1757/1757\u001b[0m \u001b[32m━━━━━━━━━━━━━━━━━━━━\u001b[0m\u001b[37m\u001b[0m \u001b[1m31s\u001b[0m 17ms/step - accuracy: 0.9558 - loss: 0.1134 - val_accuracy: 0.8922 - val_loss: 0.3907\nEpoch 39/40\n\u001b[1m1757/1757\u001b[0m \u001b[32m━━━━━━━━━━━━━━━━━━━━\u001b[0m\u001b[37m\u001b[0m \u001b[1m30s\u001b[0m 17ms/step - accuracy: 0.9568 - loss: 0.1112 - val_accuracy: 0.8900 - val_loss: 0.4074\nEpoch 40/40\n\u001b[1m1757/1757\u001b[0m \u001b[32m━━━━━━━━━━━━━━━━━━━━\u001b[0m\u001b[37m\u001b[0m \u001b[1m30s\u001b[0m 17ms/step - accuracy: 0.9577 - loss: 0.1104 - val_accuracy: 0.8918 - val_loss: 0.3952\n",
          "output_type": "stream"
        }
      ]
    },
    {
      "cell_type": "code",
      "source": [
        "import matplotlib.pyplot as plt\n",
        "\n",
        "# Plot training & validation accuracy values\n",
        "plt.plot(history.history['accuracy'])\n",
        "plt.plot(history.history['val_accuracy'])\n",
        "plt.title('Model accuracy')\n",
        "plt.xlabel('Epoch')\n",
        "plt.ylabel('Accuracy')\n",
        "plt.legend(['Train', 'Test'], loc='upper left')\n",
        "plt.show()\n",
        "\n",
        "# Plot training & validation loss values\n",
        "plt.plot(history.history['loss'])\n",
        "plt.plot(history.history['val_loss'])\n",
        "plt.title('Model loss')\n",
        "plt.xlabel('Epoch')\n",
        "plt.ylabel('Loss')\n",
        "plt.legend(['Train', 'Test'], loc='upper left')\n",
        "plt.show()\n"
      ],
      "metadata": {
        "execution": {
          "iopub.status.busy": "2024-10-13T14:30:57.572114Z",
          "iopub.execute_input": "2024-10-13T14:30:57.572402Z",
          "iopub.status.idle": "2024-10-13T14:30:58.17546Z",
          "shell.execute_reply.started": "2024-10-13T14:30:57.57237Z",
          "shell.execute_reply": "2024-10-13T14:30:58.173827Z"
        },
        "trusted": true,
        "id": "6KF2BxRfUTKR",
        "outputId": "f19f1820-4ec1-4980-c601-353e9145c9b8"
      },
      "execution_count": null,
      "outputs": [
        {
          "output_type": "display_data",
          "data": {
            "text/plain": "<Figure size 640x480 with 1 Axes>",
            "image/png": "[encoded data removed]"
          },
          "metadata": {}
        },
        {
          "output_type": "display_data",
          "data": {
            "text/plain": "<Figure size 640x480 with 1 Axes>",
            "image/png": "[encoded data removed]"
          },
          "metadata": {}
        }
      ]
    },
    {
      "cell_type": "code",
      "source": [
        "# Evaluate the model on the test data\n",
        "loss, accuracy = model.evaluate(X_test, y_test_one_hot)\n",
        "\n",
        "print(\"Test Loss:\", loss)\n",
        "print(\"Test Accuracy:\", accuracy)\n"
      ],
      "metadata": {
        "execution": {
          "iopub.status.busy": "2024-10-13T14:30:58.177355Z",
          "iopub.execute_input": "2024-10-13T14:30:58.177741Z",
          "iopub.status.idle": "2024-10-13T14:31:01.294354Z",
          "shell.execute_reply.started": "2024-10-13T14:30:58.177689Z",
          "shell.execute_reply": "2024-10-13T14:31:01.293393Z"
        },
        "trusted": true,
        "id": "25tSAgUaUTKR",
        "outputId": "4079e10d-e0a4-4e58-cfea-fb58bf036679"
      },
      "execution_count": null,
      "outputs": [
        {
          "name": "stdout",
          "text": "\u001b[1m440/440\u001b[0m \u001b[32m━━━━━━━━━━━━━━━━━━━━\u001b[0m\u001b[37m\u001b[0m \u001b[1m3s\u001b[0m 7ms/step - accuracy: 0.8910 - loss: 0.3902\nTest Loss: 0.3951517343521118\nTest Accuracy: 0.8918226361274719\n",
          "output_type": "stream"
        }
      ]
    },
    {
      "cell_type": "code",
      "source": [
        "import matplotlib.pyplot as plt\n",
        "import seaborn as sns\n",
        "from sklearn.metrics import confusion_matrix\n",
        "import numpy as np\n",
        "\n",
        "\n",
        "y_pred_probs = model.predict(X_test)\n",
        "y_pred_labels = np.argmax(y_pred_probs, axis=1)\n",
        "y_true_labels = np.argmax(y_test_one_hot, axis=1)\n",
        "conf_matrix = confusion_matrix(y_true_labels, y_pred_labels)\n",
        "plt.figure(figsize=(8, 6))\n",
        "sns.heatmap(conf_matrix, annot=True, fmt='d', cmap='Blues',\n",
        "            xticklabels=['Negative', 'Positive', 'Neutral', 'Irrelevant'],\n",
        "            yticklabels=['Negative', 'Positive', 'Neutral', 'Irrelevant'])\n",
        "plt.xlabel('Predicted')\n",
        "plt.ylabel('True')\n",
        "plt.title('Confusion Matrix')\n",
        "plt.show()\n"
      ],
      "metadata": {
        "execution": {
          "iopub.status.busy": "2024-10-13T14:31:01.295982Z",
          "iopub.execute_input": "2024-10-13T14:31:01.296353Z",
          "iopub.status.idle": "2024-10-13T14:31:04.584407Z",
          "shell.execute_reply.started": "2024-10-13T14:31:01.296318Z",
          "shell.execute_reply": "2024-10-13T14:31:04.583465Z"
        },
        "trusted": true,
        "id": "MZ0S_3WGUTKS",
        "outputId": "cd78e029-8e5d-4cce-cb66-ce2116182bda"
      },
      "execution_count": null,
      "outputs": [
        {
          "name": "stdout",
          "text": "\u001b[1m440/440\u001b[0m \u001b[32m━━━━━━━━━━━━━━━━━━━━\u001b[0m\u001b[37m\u001b[0m \u001b[1m2s\u001b[0m 5ms/step\n",
          "output_type": "stream"
        },
        {
          "output_type": "display_data",
          "data": {
            "text/plain": "<Figure size 800x600 with 2 Axes>",
            "image/png": "[encoded data removed]"
          },
          "metadata": {}
        }
      ]
    },
    {
      "cell_type": "code",
      "source": [],
      "metadata": {
        "id": "RMxOOrJTUTKZ"
      },
      "execution_count": null,
      "outputs": []
    }
  ]
}